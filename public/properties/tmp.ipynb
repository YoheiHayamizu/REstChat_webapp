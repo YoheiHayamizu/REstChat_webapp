{
 "cells": [
  {
   "cell_type": "code",
   "execution_count": 1,
   "metadata": {},
   "outputs": [],
   "source": [
    "import json\n",
    "from pprint import pprint\n",
    "import pandas as pd\n",
    "from glob import glob"
   ]
  },
  {
   "cell_type": "code",
   "execution_count": 2,
   "metadata": {},
   "outputs": [],
   "source": [
    "json_list = glob('*.json')\n",
    "\n",
    "room_data = {}\n",
    "for j in json_list:\n",
    "    with open(j) as f:\n",
    "        room_data[j.split('.')[0][:-1]] = json.load(f)\n",
    "# pprint(room_data)\n",
    "\n",
    "room_df = pd.DataFrame()\n",
    "for k, v in room_data.items():\n",
    "    df = pd.DataFrame(v)\n",
    "    df[\"name\"] = k\n",
    "    # Drop id column\n",
    "    df.drop(\"id\", axis=1, inplace=True)\n",
    "    # If \"Lighting\" is not list then make it list\n",
    "    df[\"Lighting\"] = df[\"Lighting\"].apply(lambda x: [x] if type(x) != list else x)\n",
    "    # Combile all dataframes\n",
    "    room_df = pd.concat([room_df, df], axis=0, ignore_index=True)\n",
    "# Add zeros to id\n",
    "room_df[\"id\"] = room_df.index.astype(str).str.zfill(3)\n",
    "room_df.to_json(\"all_properties.json\", orient=\"records\")\n"
   ]
  },
  {
   "cell_type": "code",
   "execution_count": 64,
   "metadata": {},
   "outputs": [
    {
     "name": "stdout",
     "output_type": "stream",
     "text": [
      "[{'age': 36, 'gender': 'Female', 'marital_status': 'Married with three young children', 'education': \"Master's degree in education\", 'income': '$120,000 per year', 'location': 'Suburban area'}, {'age': 45, 'gender': 'Female', 'marital_status': 'Married with adult children', 'education': \"Bachelor's degree in business\", 'income': '$2 million+ per year', 'location': 'Based in China, looking to buy a second home in the US'}, {'age': 45, 'gender': 'Male', 'marital_status': 'Divorced with no children', 'education': \"Associate's degree\", 'income': '$60,000 per year', 'location': 'Urban area'}, {'age': 28, 'gender': 'Male', 'marital_status': 'Single', 'education': \"Bachelor's degree in computer science\", 'income': '$70,000 per year', 'location': 'Urban area'}, {'age': 32, 'gender': 'Female', 'marital_status': 'Married with two children', 'education': \"Bachelor's degree in business administration\", 'income': '$80,000 per year', 'location': 'Suburban area'}]\n"
     ]
    }
   ],
   "source": [
    "json_list = glob('../personas/persona*.json')\n",
    "\n",
    "persona_data = []\n",
    "for j in json_list:\n",
    "    with open(j) as f:\n",
    "        persona_data.append(json.load(f))\n",
    "print(persona_data)\n",
    "persona_df = pd.DataFrame(persona_data)\n",
    "# Add id to each persona\n",
    "persona_df[\"id\"] = persona_df.index.astype(str).str.zfill(3)\n",
    "persona_df.to_json(\"../personas/all_personas.json\", orient=\"records\")\n",
    "# for k, v in persona_data.items():\n",
    "#     df = pd.DataFrame(v)\n",
    "#     # Combile all dataframes\n",
    "#     persona_df = pd.concat([persona_df, df], axis=0, ignore_index=True)\n",
    "# persona_df"
   ]
  },
  {
   "cell_type": "code",
   "execution_count": 7,
   "metadata": {},
   "outputs": [
    {
     "name": "stdout",
     "output_type": "stream",
     "text": [
      "10\n"
     ]
    }
   ],
   "source": [
    "with open('bedrooms.json') as f:\n",
    "    data = json.load(f)\n",
    "print(len(data))\n",
    "# pprint(data)\n"
   ]
  },
  {
   "cell_type": "code",
   "execution_count": 8,
   "metadata": {},
   "outputs": [
    {
     "name": "stdout",
     "output_type": "stream",
     "text": [
      "10\n"
     ]
    }
   ],
   "source": [
    "with open('livingrooms.json') as f:\n",
    "    data = json.load(f)\n",
    "print(len(data))"
   ]
  },
  {
   "cell_type": "code",
   "execution_count": 9,
   "metadata": {},
   "outputs": [
    {
     "name": "stdout",
     "output_type": "stream",
     "text": [
      "9\n"
     ]
    }
   ],
   "source": [
    "with open('kitchens.json') as f:\n",
    "    data = json.load(f)\n",
    "print(len(data))"
   ]
  },
  {
   "cell_type": "code",
   "execution_count": 10,
   "metadata": {},
   "outputs": [
    {
     "name": "stdout",
     "output_type": "stream",
     "text": [
      "10\n"
     ]
    }
   ],
   "source": [
    "with open('bathrooms.json') as f:\n",
    "    data = json.load(f)\n",
    "print(len(data))"
   ]
  },
  {
   "cell_type": "code",
   "execution_count": 12,
   "metadata": {},
   "outputs": [
    {
     "name": "stdout",
     "output_type": "stream",
     "text": [
      "10\n"
     ]
    }
   ],
   "source": [
    "with open('diningrooms.json') as f:\n",
    "    data = json.load(f)\n",
    "print(len(data))"
   ]
  },
  {
   "cell_type": "code",
   "execution_count": 13,
   "metadata": {},
   "outputs": [
    {
     "name": "stdout",
     "output_type": "stream",
     "text": [
      "10\n"
     ]
    }
   ],
   "source": [
    "with open('diningrooms.json') as f:\n",
    "    data = json.load(f)\n",
    "print(len(data))"
   ]
  },
  {
   "cell_type": "code",
   "execution_count": null,
   "metadata": {},
   "outputs": [],
   "source": []
  }
 ],
 "metadata": {
  "kernelspec": {
   "display_name": "Python 3",
   "language": "python",
   "name": "python3"
  },
  "language_info": {
   "codemirror_mode": {
    "name": "ipython",
    "version": 3
   },
   "file_extension": ".py",
   "mimetype": "text/x-python",
   "name": "python",
   "nbconvert_exporter": "python",
   "pygments_lexer": "ipython3",
   "version": "3.10.10"
  },
  "orig_nbformat": 4
 },
 "nbformat": 4,
 "nbformat_minor": 2
}
